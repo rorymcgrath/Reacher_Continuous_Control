{
 "cells": [
  {
   "cell_type": "markdown",
   "metadata": {},
   "source": [
    "# Continuous Control\n",
    "\n",
    "---\n",
    "\n",
    "In this notebook, you will learn how to use the Unity ML-Agents environment for the second project of the [Deep Reinforcement Learning Nanodegree](https://www.udacity.com/course/deep-reinforcement-learning-nanodegree--nd893) program.\n",
    "\n",
    "### 1. Start the Environment\n",
    "\n",
    "We begin by importing the necessary packages.  If the code cell below returns an error, please revisit the project instructions to double-check that you have installed [Unity ML-Agents](https://github.com/Unity-Technologies/ml-agents/blob/master/docs/Installation.md) and [NumPy](http://www.numpy.org/)."
   ]
  },
  {
   "cell_type": "code",
   "execution_count": 1,
   "metadata": {},
   "outputs": [],
   "source": [
    "from unityagents import UnityEnvironment\n",
    "import numpy as np"
   ]
  },
  {
   "cell_type": "markdown",
   "metadata": {},
   "source": [
    "Next, we will start the environment!  **_Before running the code cell below_**, change the `file_name` parameter to match the location of the Unity environment that you downloaded.\n",
    "\n",
    "- **Mac**: `\"path/to/Reacher.app\"`\n",
    "- **Windows** (x86): `\"path/to/Reacher_Windows_x86/Reacher.exe\"`\n",
    "- **Windows** (x86_64): `\"path/to/Reacher_Windows_x86_64/Reacher.exe\"`\n",
    "- **Linux** (x86): `\"path/to/Reacher_Linux/Reacher.x86\"`\n",
    "- **Linux** (x86_64): `\"path/to/Reacher_Linux/Reacher.x86_64\"`\n",
    "- **Linux** (x86, headless): `\"path/to/Reacher_Linux_NoVis/Reacher.x86\"`\n",
    "- **Linux** (x86_64, headless): `\"path/to/Reacher_Linux_NoVis/Reacher.x86_64\"`\n",
    "\n",
    "For instance, if you are using a Mac, then you downloaded `Reacher.app`.  If this file is in the same folder as the notebook, then the line below should appear as follows:\n",
    "```\n",
    "env = UnityEnvironment(file_name=\"Reacher.app\")\n",
    "```"
   ]
  },
  {
   "cell_type": "code",
   "execution_count": 2,
   "metadata": {},
   "outputs": [
    {
     "name": "stderr",
     "output_type": "stream",
     "text": [
      "INFO:unityagents:\n",
      "'Academy' started successfully!\n",
      "Unity Academy name: Academy\n",
      "        Number of Brains: 1\n",
      "        Number of External Brains : 1\n",
      "        Lesson number : 0\n",
      "        Reset Parameters :\n",
      "\t\tgoal_size -> 5.0\n",
      "\t\tgoal_speed -> 1.0\n",
      "Unity brain name: ReacherBrain\n",
      "        Number of Visual Observations (per agent): 0\n",
      "        Vector Observation space type: continuous\n",
      "        Vector Observation space size (per agent): 33\n",
      "        Number of stacked Vector Observation: 1\n",
      "        Vector Action space type: continuous\n",
      "        Vector Action space size (per agent): 4\n",
      "        Vector Action descriptions: , , , \n"
     ]
    }
   ],
   "source": [
    "env = UnityEnvironment(file_name='../Reacher.app')"
   ]
  },
  {
   "cell_type": "markdown",
   "metadata": {},
   "source": [
    "Environments contain **_brains_** which are responsible for deciding the actions of their associated agents. Here we check for the first brain available, and set it as the default brain we will be controlling from Python."
   ]
  },
  {
   "cell_type": "code",
   "execution_count": 3,
   "metadata": {},
   "outputs": [],
   "source": [
    "# get the default brain\n",
    "brain_name = env.brain_names[0]\n",
    "brain = env.brains[brain_name]"
   ]
  },
  {
   "cell_type": "markdown",
   "metadata": {},
   "source": [
    "### 2. Examine the State and Action Spaces\n",
    "\n",
    "In this environment, a double-jointed arm can move to target locations. A reward of `+0.1` is provided for each step that the agent's hand is in the goal location. Thus, the goal of your agent is to maintain its position at the target location for as many time steps as possible.\n",
    "\n",
    "The observation space consists of `33` variables corresponding to position, rotation, velocity, and angular velocities of the arm.  Each action is a vector with four numbers, corresponding to torque applicable to two joints.  Every entry in the action vector must be a number between `-1` and `1`.\n",
    "\n",
    "Run the code cell below to print some information about the environment."
   ]
  },
  {
   "cell_type": "code",
   "execution_count": 4,
   "metadata": {},
   "outputs": [
    {
     "name": "stdout",
     "output_type": "stream",
     "text": [
      "Number of agents: 1\n",
      "Size of each action: 4\n",
      "There are 1 agents. Each observes a state with length: 33\n",
      "The state for the first agent looks like: [ 0.00000000e+00 -4.00000000e+00  0.00000000e+00  1.00000000e+00\n",
      " -0.00000000e+00 -0.00000000e+00 -4.37113883e-08  0.00000000e+00\n",
      "  0.00000000e+00  0.00000000e+00  0.00000000e+00  0.00000000e+00\n",
      "  0.00000000e+00  0.00000000e+00 -1.00000000e+01  0.00000000e+00\n",
      "  1.00000000e+00 -0.00000000e+00 -0.00000000e+00 -4.37113883e-08\n",
      "  0.00000000e+00  0.00000000e+00  0.00000000e+00  0.00000000e+00\n",
      "  0.00000000e+00  0.00000000e+00  5.75471878e+00 -1.00000000e+00\n",
      "  5.55726671e+00  0.00000000e+00  1.00000000e+00  0.00000000e+00\n",
      " -1.68164849e-01]\n"
     ]
    }
   ],
   "source": [
    "# reset the environment\n",
    "env_info = env.reset(train_mode=True)[brain_name]\n",
    "\n",
    "# number of agents\n",
    "num_agents = len(env_info.agents)\n",
    "print('Number of agents:', num_agents)\n",
    "\n",
    "# size of each action\n",
    "action_size = brain.vector_action_space_size\n",
    "print('Size of each action:', action_size)\n",
    "\n",
    "# examine the state space \n",
    "states = env_info.vector_observations\n",
    "state_size = states.shape[1]\n",
    "print('There are {} agents. Each observes a state with length: {}'.format(states.shape[0], state_size))\n",
    "print('The state for the first agent looks like:', states[0])"
   ]
  },
  {
   "cell_type": "markdown",
   "metadata": {},
   "source": [
    "### 3. Training the Agent\n",
    "\n",
    "The agent is now trained to solve the environment."
   ]
  },
  {
   "cell_type": "code",
   "execution_count": null,
   "metadata": {},
   "outputs": [],
   "source": [
    "from collections import deque\n",
    "from Agent import Agent\n",
    "from unityagents import UnityEnvironment\n",
    "import numpy as np\n",
    "import torch\n",
    "import pickle\n",
    "\n",
    "MONITOR_INTERVAL = 10\n",
    "TRAIN_MODE = True\n",
    "\n",
    "env_info = env.reset(train_mode=TRAIN_MODE)[brain_name]\n",
    "state = env_info.vector_observations[0]\n",
    "done = False\n",
    "agent = Agent(state_size, action_size, seed=0)\n",
    "\n",
    "scores_window = deque(maxlen=100)\n",
    "success_score = 5\n",
    "scores = []\n",
    "i_episode = 1\n",
    "print(\" {0} {0}\\n|   Episode Number\\t|   Avg Score({1})\\t|\\n {2} {2}\".format('_'*23,MONITOR_INTERVAL,'-'*23))\n",
    "\n",
    "while success_score <= 30:\n",
    "    env_info = env.reset(train_mode=TRAIN_MODE)[brain_name]\n",
    "    state = env_info.vector_observations[0]\n",
    "    score = 0\n",
    "    done = False\n",
    "    while not done:\n",
    "        action = agent.get_action(state,add_noise=TRAIN_MODE)[0]\n",
    "        env_info = env.step(action)[brain_name]\n",
    "        next_state = env_info.vector_observations[0]\n",
    "        reward = env_info.rewards[0]\n",
    "        done = env_info.local_done[0]\n",
    "        agent.step(state,action,reward,next_state,done)\n",
    "        score += reward\n",
    "        state = next_state\n",
    "    scores_window.append(score)\n",
    "    scores.append(score)\n",
    "\n",
    "    #Monitor the training over an interval.\n",
    "    if i_episode%MONITOR_INTERVAL == 0:\n",
    "        print('\\r|   {0}\\t{1}|   {2:.2f}\\t\\t|\\n {3} {3}'.format(i_episode, '\\t\\t' if i_episode < 1000 else '\\t',  np.mean(list(scores_window[i] for i in range(-1*MONITOR_INTERVAL,0))),'-'*23))\n",
    "    \n",
    "    #Display the averge score ever 100 episodes.\n",
    "    if i_episode%100 == 0:\n",
    "        print('\\t\\tAverage Score: {:.2f}'.format(np.mean(scores_window)))\n",
    "        print(\" {0} {0}\\n|   Episode Number\\t|   Avg Score({1})\\t|\\n {2} {2}\".format('_'*23,MONITOR_INTERVAL,'-'*23))\n",
    "\n",
    "    #Create periodic checkpoints incase of error.\n",
    "    if i_episode%1000 == 0:\n",
    "        torch.save(agent.actor_local.state_dict(), 'checkpoint/actor.pth'.format(i_episode-100))\n",
    "        torch.save(agent.critic_local.state_dict(), 'checkpoint/critic.pth'.format(i_episode-100))\n",
    "        success_score+=1\n",
    "        with open('checkpoint/scores.pkl'.format(i_episode-100),'wb') as f:\n",
    "            pickle.dump(scores,f)\n",
    "    \n",
    "    #Calculate the current average score and check that of it is greater than the current target.\n",
    "    if np.mean(scores_window) >= success_score:\n",
    "        print('{}\\n Environment Solved in {:d} episodes\\n Average Score: {:.2f}\\n{}'.format('*'*48,i_episode-100,np.mean(scores_window),'*'*48))\n",
    "        torch.save(agent.actor_local.state_dict(), 'checkpoint/{}_actor_checkpoint.pth'.format(i_episode-100))\n",
    "        torch.save(agent.critic_local.state_dict(), 'checkpoint/{}_critic_checkpoint.pth'.format(i_episode-100))\n",
    "        success_score=int(np.mean(scores_window))+1\n",
    "        with open('checkpoint/{}_scores.pkl'.format(i_episode-100),'wb') as f:\n",
    "            pickle.dump(scores,f)\n",
    "        print(\" {0} {0}\\n|   Episode Number\\t|   Avg Score({1})\\t|\\n {2} {2}\".format('_'*23,MONITOR_INTERVAL,'-'*23))\n",
    "    i_episode+=1\n",
    "\n",
    "torch.save(agent.actor_local.state_dict(), 'actor_checkpoint.pth')\n",
    "torch.save(agent.critic_local.state_dict(), 'critic_checkpoint.pth')\n",
    "with open('scores.pkl','wb') as f:\n",
    "    pickle.dump(scores,f)"
   ]
  },
  {
   "cell_type": "markdown",
   "metadata": {},
   "source": [
    "### 4. Observing the trained agent.\n",
    "\n",
    "The trained agent can now be observed."
   ]
  },
  {
   "cell_type": "code",
   "execution_count": 12,
   "metadata": {},
   "outputs": [
    {
     "name": "stdout",
     "output_type": "stream",
     "text": [
      "You obtained a score of: 39.439999118447304\n"
     ]
    }
   ],
   "source": [
    "from collections import deque\n",
    "from Agent import Agent\n",
    "from unityagents import UnityEnvironment\n",
    "import numpy as np\n",
    "import torch\n",
    "import pickle\n",
    "    \n",
    "\n",
    "env_info = env.reset(train_mode=False)[brain_name]\n",
    "state = env_info.vector_observations[0]\n",
    "done = False\n",
    "\n",
    "agent = Agent(state_size, action_size, seed=0)\n",
    "#Load trained weights\n",
    "\n",
    "#Weights were trained on the GPU. Need to convert for cpu\n",
    "agent.actor_local.load_state_dict(torch.load('actor_checkpoint.pth',map_location={'cuda:0': 'cpu'}))\n",
    "agent.critic_local.load_state_dict(torch.load('critic_checkpoint.pth',map_location={'cuda:0': 'cpu'}))\n",
    "\n",
    "score = 0\n",
    "while not done:\n",
    "    action = agent.get_action(state,add_noise=False)[0]\n",
    "    env_info = env.step(action)[brain_name]\n",
    "    next_state = env_info.vector_observations[0]\n",
    "    reward = env_info.rewards[0]\n",
    "    done = env_info.local_done[0]\n",
    "    agent.step(state,action,reward,next_state,done)\n",
    "    score += reward\n",
    "    state = next_state\n",
    "print('You obtained a score of: {}'.format(score))"
   ]
  },
  {
   "cell_type": "markdown",
   "metadata": {},
   "source": [
    "When finished, you can close the environment."
   ]
  },
  {
   "cell_type": "code",
   "execution_count": null,
   "metadata": {},
   "outputs": [],
   "source": [
    "env.close()"
   ]
  }
 ],
 "metadata": {
  "kernelspec": {
   "display_name": "drlnd",
   "language": "python",
   "name": "drlnd"
  },
  "language_info": {
   "codemirror_mode": {
    "name": "ipython",
    "version": 3
   },
   "file_extension": ".py",
   "mimetype": "text/x-python",
   "name": "python",
   "nbconvert_exporter": "python",
   "pygments_lexer": "ipython3",
   "version": "3.6.8"
  }
 },
 "nbformat": 4,
 "nbformat_minor": 2
}
